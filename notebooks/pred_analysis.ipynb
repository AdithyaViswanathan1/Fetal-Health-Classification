{
 "cells": [
  {
   "cell_type": "markdown",
   "metadata": {},
   "source": [
    "# Prediction Analysis"
   ]
  },
  {
   "cell_type": "markdown",
   "metadata": {},
   "source": [
    "## Import Models and Data"
   ]
  },
  {
   "cell_type": "code",
   "execution_count": 136,
   "metadata": {},
   "outputs": [],
   "source": [
    "import joblib\n",
    "import numpy as np\n",
    "import seaborn as sns\n",
    "import matplotlib.pyplot as plt\n",
    "import pandas as pd\n",
    "np.set_printoptions(suppress=True)"
   ]
  },
  {
   "cell_type": "code",
   "execution_count": 137,
   "metadata": {},
   "outputs": [],
   "source": [
    "dt_model = joblib.load('../models/best_decision_tree_model.joblib')\n",
    "knn_model = joblib.load('../models/best_knn_model.joblib')\n",
    "best_rf_model = joblib.load('../models/best_random_forest_model.joblib')\n",
    "best_adaboost_model = joblib.load('../models/best_adaboost_model.joblib')"
   ]
  },
  {
   "cell_type": "code",
   "execution_count": 138,
   "metadata": {},
   "outputs": [],
   "source": [
    "data = pd.read_csv(\"../data/fetal_health_mod.csv\")\n",
    "x_train = np.load('../data/x_train.npy')\n",
    "x_test = np.load('../data/x_test.npy')\n",
    "y_train = np.load('../data/y_train.npy')\n",
    "y_test = np.load('../data/y_test.npy')"
   ]
  },
  {
   "cell_type": "markdown",
   "metadata": {},
   "source": [
    "## Approach\n",
    "\n",
    "- take the best/most interesting model\n",
    "- do the following on training data and then testing data\n",
    "- see the distribution of predicted classes (how many were predicted 1, 2, and 3?)\n",
    "- see only where the predictions were incorrect\n",
    "- see any patterns in wrong predictions (ex: when actual answer was 1, it always predicted 2)\n",
    "- then create custom error rates \n",
    "- continue creating custom metrics to give insights into model weaknesses"
   ]
  },
  {
   "cell_type": "code",
   "execution_count": 139,
   "metadata": {},
   "outputs": [
    {
     "name": "stdout",
     "output_type": "stream",
     "text": [
      "[1. 1. 1. 1. 1. 1. 1. 1. 1. 1. 1. 1. 2. 1. 1. 2. 1. 1. 1. 1.]\n",
      "[1. 1. 1. 1. 1. 1. 1. 1. 1. 1. 1. 1. 1. 1. 1. 2. 1. 1. 1. 1.]\n"
     ]
    },
    {
     "name": "stderr",
     "output_type": "stream",
     "text": [
      "/Library/Frameworks/Python.framework/Versions/3.11/lib/python3.11/site-packages/sklearn/base.py:464: UserWarning: X does not have valid feature names, but RandomForestClassifier was fitted with feature names\n",
      "  warnings.warn(\n"
     ]
    }
   ],
   "source": [
    "model = best_rf_model\n",
    "y_pred = model.predict(x_test)\n",
    "print(y_pred[:20])\n",
    "print(y_test[:20])"
   ]
  },
  {
   "cell_type": "code",
   "execution_count": 140,
   "metadata": {},
   "outputs": [
    {
     "name": "stdout",
     "output_type": "stream",
     "text": [
      "Prediction Distribution:\n",
      "1.0    338\n",
      "2.0     55\n",
      "3.0     33\n",
      "Name: count, dtype: int64\n",
      "\n",
      "Actual Distribution:\n",
      "1.0    334\n",
      "2.0     57\n",
      "3.0     35\n",
      "Name: count, dtype: int64\n"
     ]
    }
   ],
   "source": [
    "print(f\"Prediction Distribution:\\n{pd.Series(y_pred).value_counts()}\")\n",
    "print(f\"\\nActual Distribution:\\n{pd.Series(y_test).value_counts()}\")"
   ]
  },
  {
   "cell_type": "markdown",
   "metadata": {},
   "source": [
    "### Observation\n",
    "Some instances which are 2.0 or 3.0 category are being classified as 1.0. In other words, fetuses which are suspect and pathological level (unhealthy) are being classified as healthy. These are examples of false negatives, which are very dangerous, especially in this case.\n",
    "\n",
    "The effect of false negatives, as discussed in `modeling.ipynb`, is the endangerment of the fetus by not realizing an unhealthy fetus needs medical intervention.\n",
    "\n",
    "Let's see where the classification is going wrong."
   ]
  },
  {
   "cell_type": "code",
   "execution_count": 141,
   "metadata": {},
   "outputs": [
    {
     "name": "stdout",
     "output_type": "stream",
     "text": [
      "Error Rate: 24/426 = 5.6%\n",
      "{'Prediction: 2.0 | True: 1.0': 8, 'Prediction: 1.0 | True: 2.0': 12, 'Prediction: 2.0 | True: 3.0': 2, 'Prediction: 3.0 | True: 1.0': 1, 'Prediction: 1.0 | True: 3.0': 1}\n",
      "Most prevalent misclassifiction: Prediction: 1.0 | True: 2.0\n"
     ]
    }
   ],
   "source": [
    "assert len(y_pred) == len(y_test)\n",
    "assert len(x_test) == len(y_test)\n",
    "error_count = 0\n",
    "type_of_error = {}\n",
    "true_value_errors = {}\n",
    "index = 0\n",
    "error_indices = []\n",
    "for pred, true in zip(y_pred, y_test):\n",
    "    if pred != true:\n",
    "        error_indices.append(index)\n",
    "        key = f\"Prediction: {pred} | True: {true}\"\n",
    "        # print(key)\n",
    "        if key not in type_of_error.keys():\n",
    "            type_of_error[key] = 1\n",
    "        else:\n",
    "            type_of_error[key] += 1\n",
    "        \n",
    "        if true not in true_value_errors.keys():\n",
    "            true_value_errors[true] = 1\n",
    "        else:\n",
    "            true_value_errors[true] += 1\n",
    "        error_count+=1\n",
    "    index+=1\n",
    "\n",
    "assert index == len(y_pred) == len(y_test)\n",
    "assert len(error_indices) == error_count\n",
    "error_rate = error_count / len(y_pred)\n",
    "print(f\"Error Rate: {error_count}/{len(y_pred)} = {error_rate*100:.2}%\")\n",
    "print(type_of_error)\n",
    "key_with_max_value = max(type_of_error, key=type_of_error.get)\n",
    "print(f\"Most prevalent misclassifiction: {key_with_max_value}\")"
   ]
  },
  {
   "cell_type": "markdown",
   "metadata": {},
   "source": [
    "### Observation\n",
    "The types of misclassifications are:\n",
    "\n",
    "Type 1: Predicting 1 when truly 2 => 12 occurences\n",
    "\n",
    "Type 2: Predicting 2 when truly 1 => 8 occurences\n",
    "\n",
    "Type 3: Predicting 2 when truly 3 => 2 occurences\n",
    "\n",
    "Type 4: Predicting 3 when truly 1 => 1 occurence\n",
    "\n",
    "Type 5: Predicting 1 when truly 3 => 1 occurence\n",
    "<br><br>\n",
    "\n",
    "This can be translated to:\n",
    "\n",
    "Type 1: Predicting HEALTHY when SUSPECT => 12 occurences (***)\n",
    "\n",
    "Type 2: Predicting SUSPECT when HEALTHY => 8 occurences\n",
    "\n",
    "Type 3: Predicting SUSPECT when PATHOLOGICAL => 2 occurences\n",
    "\n",
    "Type 4: Predicting PATHOLOGICAL when HEALTHY => 1 occurence\n",
    "\n",
    "Type 5: Predicting HEALTHY when PATHOLOGICAL => 1 occurence (***)\n",
    "\n",
    "_(***) indicates dangerous misclassifications_\n",
    "<br><br>\n",
    "\n",
    "\n",
    "Even with GridSearch optimizing for recall, there are many false negatives."
   ]
  },
  {
   "cell_type": "code",
   "execution_count": 142,
   "metadata": {},
   "outputs": [
    {
     "name": "stdout",
     "output_type": "stream",
     "text": [
      "{1.0: 9, 2.0: 12, 3.0: 3}\n"
     ]
    },
    {
     "data": {
      "image/png": "[encoded data removed]",
      "text/plain": [
       "<Figure size 640x480 with 1 Axes>"
      ]
     },
     "metadata": {},
     "output_type": "display_data"
    }
   ],
   "source": [
    "# graph errors where the true value was 1,2,or 3\n",
    "print(true_value_errors)\n",
    "sns.barplot(x=list(true_value_errors.keys()), y=list(true_value_errors.values()))\n",
    "plt.title('Number of errors for each true value')\n",
    "plt.xlabel('True Value')\n",
    "plt.ylabel('Error Count')\n",
    "plt.show()"
   ]
  },
  {
   "cell_type": "code",
   "execution_count": 158,
   "metadata": {},
   "outputs": [
    {
     "name": "stdout",
     "output_type": "stream",
     "text": [
      "1.0 error rate: 9/334 = 2.69%\n",
      "2.0 error rate: 12/57 = 21.1%\n",
      "3.0 error rate: 3/35 = 8.57%\n"
     ]
    }
   ],
   "source": [
    "# do again\n",
    "# count number of 2 errors\n",
    "# divide by number of 2 true values. \n",
    "# do for other labels.\n",
    "for label in true_value_errors.keys():\n",
    "    true_2_errors = true_value_errors[label]\n",
    "    # print(true_2_errors)\n",
    "    total_2_errors = np.count_nonzero(y_test == label)\n",
    "    # print(total_2_errors)\n",
    "    percentage_2_error = true_2_errors/total_2_errors*100\n",
    "    print(f\"{label} error rate: {true_2_errors}/{total_2_errors} = {percentage_2_error:.3}%\")"
   ]
  },
  {
   "cell_type": "markdown",
   "metadata": {},
   "source": [
    "### Observation\n",
    "\n",
    "2.0's are getting misclassified more than other labels. This is surprising considering 3.0's are the rarest to be found in the dataset, training and testing. So I would expect 3.0's to be misclassified more.\n",
    "\n",
    "The most challenging part is to find out why they're being misclassified..."
   ]
  },
  {
   "cell_type": "code",
   "execution_count": 143,
   "metadata": {},
   "outputs": [],
   "source": [
    "# modify previous code to keep track of pred and true value for each index in y_pred and y_true. \n",
    "# pull those cases from x_test and see for any patterns in misclassification type 1.\n",
    "col_names = data.columns[:-1].tolist()\n",
    "# print(col_names)\n",
    "\n",
    "# find out the average value for each column in x_train. This will show what kind of numbers the model is looking for in each label.\n",
    "# average of each column in x_train\n",
    "column_wise_mean = data.groupby('fetal_health').mean()\n",
    "# print(column_wise_mean)\n",
    "\n",
    "# EX: To get mean value for 'baseline value' feature with label '2.0'\n",
    "# print(column_wise_mean['baseline value'][2.0])\n",
    "\n",
    "str_out = f\"Misclassification Expansion:\\n\\nFeature names: {col_names}\\n\\n\"\n",
    "for index in error_indices:\n",
    "    predicted_value = y_pred[index]\n",
    "    true_value = y_test[index]\n",
    "    row_values = x_test[index]\n",
    "    assert len(row_values) == len(col_names)\n",
    "    true_diff = []\n",
    "    pred_diff = []\n",
    "    for col_name,value in zip(col_names, row_values):\n",
    "        # print(col_name)\n",
    "        true_mean_value = column_wise_mean[col_name][true_value]\n",
    "        true_perc_diff = abs(round((value - true_mean_value)/true_mean_value*100, 2))\n",
    "        # print(value,true_mean_value, true_perc_diff)\n",
    "        true_diff.append(true_perc_diff)\n",
    "\n",
    "        pred_mean_value = column_wise_mean[col_name][predicted_value]\n",
    "        pred_perc_diff = abs(round((value - pred_mean_value)/true_mean_value*100, 2))\n",
    "        pred_diff.append(pred_perc_diff)\n",
    "\n",
    "    str_out += f\"Pred: {predicted_value} | True: {true_value}\\n% Difference from true feature means: {true_diff} Avg: {np.mean(true_diff):.2}\\n% Difference from pred feature means: {pred_diff}  Avg: {np.mean(pred_diff):.2}\\n\\n\"\n",
    "\n",
    "with open(\"../log.txt\", \"w\") as file:\n",
    "    file.write(str_out)"
   ]
  },
  {
   "cell_type": "markdown",
   "metadata": {},
   "source": [
    "### Approach\n",
    "\n",
    "I wanted to see for each incorrect prediction, how much did its feature values differ from the average given its label? For example, if a fetus was predicted healthy, but was in reality suspect or pathological,\n",
    "- What were its feature values?\n",
    "- What is the average value for the features of a healthy fetus?\n",
    "- What is the difference between these values with respect to a given feature?\n",
    "\n",
    "The output of this can be found in `log.txt`\n",
    "\n",
    "### Insights\n",
    "- Difference between value and mean value are very high for few features, namely `accelerations`, `percentage_of_time_with_abnormal_long_term_variability`, and `histogram_variance`.\n",
    "- Percent difference for `accelerations` is noticeably 100% in a lot of cases. This is for a simple reason. The value for the given instance is 0 and the average value for that feature + label is a very small number. So, when calculating percent difference, it becomes _(0 - 0.001) / 0.001 * 100 = 100%_ \n",
    "\n",
    "Further analysis pending..."
   ]
  },
  {
   "cell_type": "code",
   "execution_count": null,
   "metadata": {},
   "outputs": [],
   "source": []
  }
 ],
 "metadata": {
  "kernelspec": {
   "display_name": "Python 3",
   "language": "python",
   "name": "python3"
  },
  "language_info": {
   "codemirror_mode": {
    "name": "ipython",
    "version": 3
   },
   "file_extension": ".py",
   "mimetype": "text/x-python",
   "name": "python",
   "nbconvert_exporter": "python",
   "pygments_lexer": "ipython3",
   "version": "3.11.4"
  }
 },
 "nbformat": 4,
 "nbformat_minor": 2
}
