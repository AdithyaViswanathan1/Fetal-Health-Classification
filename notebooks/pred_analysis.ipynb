{
 "cells": [
  {
   "cell_type": "markdown",
   "metadata": {},
   "source": [
    "# Prediction Visualizations\n",
    "\n",
    "- take the best model\n",
    "- do the following on training data and then testing data\n",
    "- see the distribution of predicted classes (how many were predicted 1, 2, and 3?)\n",
    "- see only where the predictions were incorrect\n",
    "- see any patterns in wrong predictions (ex: when actual answer was 1, it always predicted 2)\n",
    "- then create custom error rates \n",
    "- continue creating custom metrics to give insights into model weaknesses"
   ]
  },
  {
   "cell_type": "code",
   "execution_count": 1,
   "metadata": {},
   "outputs": [],
   "source": [
    "import joblib"
   ]
  },
  {
   "cell_type": "code",
   "execution_count": null,
   "metadata": {},
   "outputs": [],
   "source": [
    "dt_model = joblib.load('../models/best_decision_tree_model.joblib')\n",
    "knn_model = joblib.load('../models/best_knn_model.joblib')\n",
    "best_rf_model = joblib.load('../models/best_random_forest_model.joblib')"
   ]
  },
  {
   "cell_type": "code",
   "execution_count": null,
   "metadata": {},
   "outputs": [],
   "source": [
    "model = best_rf_model\n",
    "y_pred = model.predict(x_test)\n",
    "print(y_pred[:5])\n",
    "print(y_test[:5])"
   ]
  }
 ],
 "metadata": {
  "kernelspec": {
   "display_name": "Python 3",
   "language": "python",
   "name": "python3"
  },
  "language_info": {
   "codemirror_mode": {
    "name": "ipython",
    "version": 3
   },
   "file_extension": ".py",
   "mimetype": "text/x-python",
   "name": "python",
   "nbconvert_exporter": "python",
   "pygments_lexer": "ipython3",
   "version": "3.11.4"
  }
 },
 "nbformat": 4,
 "nbformat_minor": 2
}
